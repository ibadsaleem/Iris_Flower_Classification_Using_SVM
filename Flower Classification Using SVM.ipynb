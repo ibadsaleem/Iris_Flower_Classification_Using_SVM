{
 "cells": [
  {
   "cell_type": "code",
   "execution_count": null,
   "id": "30e9d97a",
   "metadata": {},
   "outputs": [],
   "source": [
    "import numpy as np\n",
    "import pandas as pd\n",
    "from sklearn import svm\n",
    "from sklearn.preprocessing import StandardScaler,LabelEncoder\n",
    "from sklearn.metrics import accuracy_score\n",
    "from sklearn.model_selection import train_test_split"
   ]
  },
  {
   "cell_type": "code",
   "execution_count": null,
   "id": "d93d438a",
   "metadata": {},
   "outputs": [],
   "source": [
    "iris = pd.read_csv('IRIS.csv')\n"
   ]
  },
  {
   "cell_type": "code",
   "execution_count": null,
   "id": "e264df71",
   "metadata": {},
   "outputs": [],
   "source": [
    "X= iris.drop(columns=['petal_length','petal_width','species'],axis=1)\n",
    "X"
   ]
  },
  {
   "cell_type": "code",
   "execution_count": null,
   "id": "34784aa6",
   "metadata": {},
   "outputs": [],
   "source": [
    "Y= iris['species']"
   ]
  },
  {
   "cell_type": "code",
   "execution_count": null,
   "id": "089e53ca",
   "metadata": {},
   "outputs": [],
   "source": [
    "X"
   ]
  },
  {
   "cell_type": "code",
   "execution_count": null,
   "id": "608ab3e7",
   "metadata": {},
   "outputs": [],
   "source": [
    "Y"
   ]
  },
  {
   "cell_type": "code",
   "execution_count": null,
   "id": "54d25945",
   "metadata": {},
   "outputs": [],
   "source": [
    "scaler=StandardScaler()\n",
    "# iris_standardised_dataset="
   ]
  },
  {
   "cell_type": "code",
   "execution_count": null,
   "id": "1365525e",
   "metadata": {},
   "outputs": [],
   "source": [
    "transformed_dataset=scaler.fit_transform(X)"
   ]
  },
  {
   "cell_type": "code",
   "execution_count": null,
   "id": "b957a588",
   "metadata": {},
   "outputs": [],
   "source": [
    "transformed_dataset"
   ]
  },
  {
   "cell_type": "code",
   "execution_count": null,
   "id": "c70a53ad",
   "metadata": {},
   "outputs": [],
   "source": [
    "X=transformed_dataset"
   ]
  },
  {
   "cell_type": "code",
   "execution_count": null,
   "id": "b9044635",
   "metadata": {},
   "outputs": [],
   "source": [
    "X_train,X_test,Y_train,Y_test = train_test_split(X,Y,test_size=0.2,random_state=1)"
   ]
  },
  {
   "cell_type": "code",
   "execution_count": null,
   "id": "994ff0e9",
   "metadata": {},
   "outputs": [],
   "source": [
    "classifier= svm.SVC(kernel='linear')"
   ]
  },
  {
   "cell_type": "code",
   "execution_count": null,
   "id": "249f7c82",
   "metadata": {},
   "outputs": [],
   "source": [
    "prediction=classifier.fit(X_train,Y_train)"
   ]
  },
  {
   "cell_type": "code",
   "execution_count": null,
   "id": "f96a8ecf",
   "metadata": {},
   "outputs": [],
   "source": [
    "X_test_prediction= classifier.predict(X_test)\n",
    "X_test_accuracy= accuracy_score(X_test_prediction,Y_test)"
   ]
  },
  {
   "cell_type": "code",
   "execution_count": null,
   "id": "8bf1a039",
   "metadata": {},
   "outputs": [],
   "source": [
    "input_data=(4.1,3.5)\n",
    "input_npdata=np.array(input_data)\n",
    "input_npdata"
   ]
  },
  {
   "cell_type": "code",
   "execution_count": null,
   "id": "308297cc",
   "metadata": {},
   "outputs": [],
   "source": [
    "reshaped_val=input_npdata.reshape(1,-1)\n"
   ]
  },
  {
   "cell_type": "code",
   "execution_count": null,
   "id": "682a145b",
   "metadata": {},
   "outputs": [],
   "source": [
    "sv = scaler.fit_transform(reshaped_val)\n"
   ]
  },
  {
   "cell_type": "code",
   "execution_count": null,
   "id": "7efcf7bd",
   "metadata": {},
   "outputs": [],
   "source": [
    "predicted_value= classifier.predict(sv)\n",
    "predicted_value"
   ]
  },
  {
   "cell_type": "code",
   "execution_count": null,
   "id": "18e3e659",
   "metadata": {},
   "outputs": [],
   "source": []
  }
 ],
 "metadata": {
  "kernelspec": {
   "display_name": "Python 3 (ipykernel)",
   "language": "python",
   "name": "python3"
  },
  "language_info": {
   "codemirror_mode": {
    "name": "ipython",
    "version": 3
   },
   "file_extension": ".py",
   "mimetype": "text/x-python",
   "name": "python",
   "nbconvert_exporter": "python",
   "pygments_lexer": "ipython3",
   "version": "3.10.4"
  }
 },
 "nbformat": 4,
 "nbformat_minor": 5
}
